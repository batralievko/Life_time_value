{
 "cells": [
  {
   "cell_type": "code",
   "execution_count": 23,
   "metadata": {},
   "outputs": [],
   "source": [
    "import pandas as pd"
   ]
  },
  {
   "cell_type": "markdown",
   "metadata": {},
   "source": [
    "**Cohort means all players who installed the game on the same day. Cohort numeration in this task starts with 3001 (for players who installed on January 1st 2017)**<br>\n",
    "\n",
    "<font color='green'>**Когорта ( в данном случае ) - группа, людей, установивших игру в один и тот же день. Нумерация в задаче начинается с 3001 (для игроков, которые установили игру 1 января 2017 года).**</font>"
   ]
  },
  {
   "cell_type": "code",
   "execution_count": 24,
   "metadata": {},
   "outputs": [],
   "source": [
    "installs = pd.read_csv('installs.csv')\n",
    "ecpm = pd.read_csv('eCPM.csv')\n",
    "iap = pd.read_csv('in_game_purchases_revenue.csv')\n",
    "total_ads = pd.read_csv('total_ads_watched.csv')\n",
    "\n",
    "cohorts = installs['cohort_number']\n",
    "\n",
    "days = pd.unique(pd.concat([iap['Date'],total_ads['Date'],ecpm['Date']]))"
   ]
  },
  {
   "cell_type": "code",
   "execution_count": 25,
   "metadata": {
    "scrolled": false
   },
   "outputs": [
    {
     "data": {
      "text/html": [
       "<div>\n",
       "<style scoped>\n",
       "    .dataframe tbody tr th:only-of-type {\n",
       "        vertical-align: middle;\n",
       "    }\n",
       "\n",
       "    .dataframe tbody tr th {\n",
       "        vertical-align: top;\n",
       "    }\n",
       "\n",
       "    .dataframe thead th {\n",
       "        text-align: right;\n",
       "    }\n",
       "</style>\n",
       "<table border=\"1\" class=\"dataframe\">\n",
       "  <thead>\n",
       "    <tr style=\"text-align: right;\">\n",
       "      <th></th>\n",
       "      <th>Date</th>\n",
       "      <th>cohort_number</th>\n",
       "      <th>installs</th>\n",
       "    </tr>\n",
       "  </thead>\n",
       "  <tbody>\n",
       "    <tr>\n",
       "      <th>0</th>\n",
       "      <td>1/1/2017</td>\n",
       "      <td>3001</td>\n",
       "      <td>62078</td>\n",
       "    </tr>\n",
       "    <tr>\n",
       "      <th>1</th>\n",
       "      <td>1/2/2017</td>\n",
       "      <td>3002</td>\n",
       "      <td>62601</td>\n",
       "    </tr>\n",
       "  </tbody>\n",
       "</table>\n",
       "</div>"
      ],
      "text/plain": [
       "       Date  cohort_number  installs\n",
       "0  1/1/2017           3001     62078\n",
       "1  1/2/2017           3002     62601"
      ]
     },
     "execution_count": 25,
     "metadata": {},
     "output_type": "execute_result"
    }
   ],
   "source": [
    "# установки\n",
    "\n",
    "installs.head(2)"
   ]
  },
  {
   "cell_type": "markdown",
   "metadata": {},
   "source": [
    "**CPM - Cost Per Mille<br>**\n",
    "<font color='green'>**Цена за тысячу показов баннера, объявления или любого другого коммерческого блока.**</font>"
   ]
  },
  {
   "cell_type": "code",
   "execution_count": 26,
   "metadata": {},
   "outputs": [
    {
     "data": {
      "text/html": [
       "<div>\n",
       "<style scoped>\n",
       "    .dataframe tbody tr th:only-of-type {\n",
       "        vertical-align: middle;\n",
       "    }\n",
       "\n",
       "    .dataframe tbody tr th {\n",
       "        vertical-align: top;\n",
       "    }\n",
       "\n",
       "    .dataframe thead th {\n",
       "        text-align: right;\n",
       "    }\n",
       "</style>\n",
       "<table border=\"1\" class=\"dataframe\">\n",
       "  <thead>\n",
       "    <tr style=\"text-align: right;\">\n",
       "      <th></th>\n",
       "      <th>Date</th>\n",
       "      <th>eCPM</th>\n",
       "    </tr>\n",
       "  </thead>\n",
       "  <tbody>\n",
       "    <tr>\n",
       "      <th>0</th>\n",
       "      <td>1/1/2017</td>\n",
       "      <td>5.879974</td>\n",
       "    </tr>\n",
       "    <tr>\n",
       "      <th>1</th>\n",
       "      <td>1/2/2017</td>\n",
       "      <td>5.259028</td>\n",
       "    </tr>\n",
       "  </tbody>\n",
       "</table>\n",
       "</div>"
      ],
      "text/plain": [
       "       Date      eCPM\n",
       "0  1/1/2017  5.879974\n",
       "1  1/2/2017  5.259028"
      ]
     },
     "execution_count": 26,
     "metadata": {},
     "output_type": "execute_result"
    }
   ],
   "source": [
    "ecpm.head(2)"
   ]
  },
  {
   "cell_type": "markdown",
   "metadata": {},
   "source": [
    "**IAP - in-app purchases**<br>\n",
    "<font color='green'>**Покупки в приложении**</font>"
   ]
  },
  {
   "cell_type": "code",
   "execution_count": 27,
   "metadata": {
    "scrolled": false
   },
   "outputs": [
    {
     "data": {
      "text/html": [
       "<div>\n",
       "<style scoped>\n",
       "    .dataframe tbody tr th:only-of-type {\n",
       "        vertical-align: middle;\n",
       "    }\n",
       "\n",
       "    .dataframe tbody tr th {\n",
       "        vertical-align: top;\n",
       "    }\n",
       "\n",
       "    .dataframe thead th {\n",
       "        text-align: right;\n",
       "    }\n",
       "</style>\n",
       "<table border=\"1\" class=\"dataframe\">\n",
       "  <thead>\n",
       "    <tr style=\"text-align: right;\">\n",
       "      <th></th>\n",
       "      <th>Date</th>\n",
       "      <th>3001</th>\n",
       "      <th>3002</th>\n",
       "      <th>3003</th>\n",
       "      <th>3004</th>\n",
       "      <th>3005</th>\n",
       "      <th>3006</th>\n",
       "      <th>3007</th>\n",
       "      <th>3008</th>\n",
       "      <th>3009</th>\n",
       "      <th>...</th>\n",
       "      <th>3022</th>\n",
       "      <th>3023</th>\n",
       "      <th>3024</th>\n",
       "      <th>3025</th>\n",
       "      <th>3026</th>\n",
       "      <th>3027</th>\n",
       "      <th>3028</th>\n",
       "      <th>3029</th>\n",
       "      <th>3030</th>\n",
       "      <th>3031</th>\n",
       "    </tr>\n",
       "  </thead>\n",
       "  <tbody>\n",
       "    <tr>\n",
       "      <th>0</th>\n",
       "      <td>1/1/17</td>\n",
       "      <td>3624.0337</td>\n",
       "      <td>45.9284</td>\n",
       "      <td>0.0000</td>\n",
       "      <td>0.0</td>\n",
       "      <td>0.0</td>\n",
       "      <td>0.0</td>\n",
       "      <td>0.0</td>\n",
       "      <td>0.0</td>\n",
       "      <td>0.0</td>\n",
       "      <td>...</td>\n",
       "      <td>0.0</td>\n",
       "      <td>0.0</td>\n",
       "      <td>0.0</td>\n",
       "      <td>0.0</td>\n",
       "      <td>0.0</td>\n",
       "      <td>0.0</td>\n",
       "      <td>0.0</td>\n",
       "      <td>0.0</td>\n",
       "      <td>0.0</td>\n",
       "      <td>0.0</td>\n",
       "    </tr>\n",
       "    <tr>\n",
       "      <th>1</th>\n",
       "      <td>1/2/17</td>\n",
       "      <td>3540.0400</td>\n",
       "      <td>3785.3424</td>\n",
       "      <td>55.7984</td>\n",
       "      <td>0.0</td>\n",
       "      <td>0.0</td>\n",
       "      <td>0.0</td>\n",
       "      <td>0.0</td>\n",
       "      <td>0.0</td>\n",
       "      <td>0.0</td>\n",
       "      <td>...</td>\n",
       "      <td>0.0</td>\n",
       "      <td>0.0</td>\n",
       "      <td>0.0</td>\n",
       "      <td>0.0</td>\n",
       "      <td>0.0</td>\n",
       "      <td>0.0</td>\n",
       "      <td>0.0</td>\n",
       "      <td>0.0</td>\n",
       "      <td>0.0</td>\n",
       "      <td>0.0</td>\n",
       "    </tr>\n",
       "  </tbody>\n",
       "</table>\n",
       "<p>2 rows × 32 columns</p>\n",
       "</div>"
      ],
      "text/plain": [
       "     Date       3001       3002     3003  3004  3005  3006  3007  3008  3009  \\\n",
       "0  1/1/17  3624.0337    45.9284   0.0000   0.0   0.0   0.0   0.0   0.0   0.0   \n",
       "1  1/2/17  3540.0400  3785.3424  55.7984   0.0   0.0   0.0   0.0   0.0   0.0   \n",
       "\n",
       "   ...  3022  3023  3024  3025  3026  3027  3028  3029  3030  3031  \n",
       "0  ...   0.0   0.0   0.0   0.0   0.0   0.0   0.0   0.0   0.0   0.0  \n",
       "1  ...   0.0   0.0   0.0   0.0   0.0   0.0   0.0   0.0   0.0   0.0  \n",
       "\n",
       "[2 rows x 32 columns]"
      ]
     },
     "execution_count": 27,
     "metadata": {},
     "output_type": "execute_result"
    }
   ],
   "source": [
    "iap.head(2)"
   ]
  },
  {
   "cell_type": "markdown",
   "metadata": {},
   "source": [
    "<font color='green'>**Количество просмотренной рекламы**</font>"
   ]
  },
  {
   "cell_type": "code",
   "execution_count": 28,
   "metadata": {
    "scrolled": true
   },
   "outputs": [
    {
     "data": {
      "text/html": [
       "<div>\n",
       "<style scoped>\n",
       "    .dataframe tbody tr th:only-of-type {\n",
       "        vertical-align: middle;\n",
       "    }\n",
       "\n",
       "    .dataframe tbody tr th {\n",
       "        vertical-align: top;\n",
       "    }\n",
       "\n",
       "    .dataframe thead th {\n",
       "        text-align: right;\n",
       "    }\n",
       "</style>\n",
       "<table border=\"1\" class=\"dataframe\">\n",
       "  <thead>\n",
       "    <tr style=\"text-align: right;\">\n",
       "      <th></th>\n",
       "      <th>Date</th>\n",
       "      <th>3011</th>\n",
       "      <th>3016</th>\n",
       "      <th>3017</th>\n",
       "      <th>3005</th>\n",
       "      <th>3004</th>\n",
       "      <th>3007</th>\n",
       "      <th>3006</th>\n",
       "      <th>3001</th>\n",
       "      <th>3014</th>\n",
       "      <th>...</th>\n",
       "      <th>3010</th>\n",
       "      <th>3037</th>\n",
       "      <th>3030</th>\n",
       "      <th>3031</th>\n",
       "      <th>3032</th>\n",
       "      <th>3033</th>\n",
       "      <th>3034</th>\n",
       "      <th>3060</th>\n",
       "      <th>3013</th>\n",
       "      <th>3036</th>\n",
       "    </tr>\n",
       "  </thead>\n",
       "  <tbody>\n",
       "    <tr>\n",
       "      <th>0</th>\n",
       "      <td>1/1/17</td>\n",
       "      <td>0</td>\n",
       "      <td>0</td>\n",
       "      <td>0</td>\n",
       "      <td>0</td>\n",
       "      <td>0</td>\n",
       "      <td>0</td>\n",
       "      <td>0</td>\n",
       "      <td>151902</td>\n",
       "      <td>0</td>\n",
       "      <td>...</td>\n",
       "      <td>0</td>\n",
       "      <td>0</td>\n",
       "      <td>0</td>\n",
       "      <td>0</td>\n",
       "      <td>0</td>\n",
       "      <td>0</td>\n",
       "      <td>0</td>\n",
       "      <td>0</td>\n",
       "      <td>0</td>\n",
       "      <td>0</td>\n",
       "    </tr>\n",
       "    <tr>\n",
       "      <th>1</th>\n",
       "      <td>1/2/17</td>\n",
       "      <td>0</td>\n",
       "      <td>0</td>\n",
       "      <td>0</td>\n",
       "      <td>0</td>\n",
       "      <td>0</td>\n",
       "      <td>0</td>\n",
       "      <td>0</td>\n",
       "      <td>157271</td>\n",
       "      <td>0</td>\n",
       "      <td>...</td>\n",
       "      <td>0</td>\n",
       "      <td>0</td>\n",
       "      <td>0</td>\n",
       "      <td>0</td>\n",
       "      <td>0</td>\n",
       "      <td>0</td>\n",
       "      <td>0</td>\n",
       "      <td>0</td>\n",
       "      <td>0</td>\n",
       "      <td>0</td>\n",
       "    </tr>\n",
       "  </tbody>\n",
       "</table>\n",
       "<p>2 rows × 63 columns</p>\n",
       "</div>"
      ],
      "text/plain": [
       "     Date  3011  3016  3017  3005  3004  3007  3006    3001  3014  ...  3010  \\\n",
       "0  1/1/17     0     0     0     0     0     0     0  151902     0  ...     0   \n",
       "1  1/2/17     0     0     0     0     0     0     0  157271     0  ...     0   \n",
       "\n",
       "   3037  3030  3031  3032  3033  3034  3060  3013  3036  \n",
       "0     0     0     0     0     0     0     0     0     0  \n",
       "1     0     0     0     0     0     0     0     0     0  \n",
       "\n",
       "[2 rows x 63 columns]"
      ]
     },
     "execution_count": 28,
     "metadata": {},
     "output_type": "execute_result"
    }
   ],
   "source": [
    "total_ads.head(2)"
   ]
  },
  {
   "cell_type": "markdown",
   "metadata": {},
   "source": [
    "<font color='green'>**Доход от рекламы**</font>"
   ]
  },
  {
   "cell_type": "code",
   "execution_count": 22,
   "metadata": {},
   "outputs": [
    {
     "name": "stdout",
     "output_type": "stream",
     "text": [
      "Calculation of Revenue is done\n"
     ]
    }
   ],
   "source": [
    "ads_revenue = list()\n",
    "for date in total_ads['Date']:\n",
    "    ecpm_value=ecpm.loc[pd.to_datetime(ecpm['Date'])==pd.to_datetime(date)]['eCPM']\n",
    "    row=list()\n",
    "    row.append(date) # собираем все даты\n",
    "    for i in list(total_ads.drop('Date', axis=1)):\n",
    "                                        # кол-во рекламы*ставку по рекламе\n",
    "            row.append((float(total_ads.\\\n",
    "                              loc[total_ads['Date']==date][i])*float(ecpm_value))/1000)\n",
    "            \n",
    "    ads_revenue.append(row) # собираем по всем датам\n",
    "    \n",
    "ads_revenue = pd.DataFrame(ads_revenue,columns=list(total_ads))\n",
    "print('Calculation of Revenue is done')"
   ]
  },
  {
   "cell_type": "markdown",
   "metadata": {},
   "source": [
    "<font color='green'>**Расчет метрики Life time value**</font>"
   ]
  },
  {
   "cell_type": "code",
   "execution_count": 32,
   "metadata": {
    "scrolled": true
   },
   "outputs": [
    {
     "name": "stdout",
     "output_type": "stream",
     "text": [
      "Calculation of LTV is completed\n"
     ]
    }
   ],
   "source": [
    "ltv_all= list()\n",
    "\n",
    "for cohort in cohorts:\n",
    "    ltv=0\n",
    "    row=list()\n",
    "    row.append(cohort)\n",
    "    \n",
    "    if str(cohort) in list(ads_revenue.columns.values) and str(cohort) in list(iap.columns.values):\n",
    "        \n",
    "        for date in pd.to_datetime(days):\n",
    "            ads_revenue_day=float(ads_revenue.loc[pd.to_datetime(ads_revenue['Date'])==date][str(cohort)])\n",
    "            iap_revenue_day=float(iap.loc[pd.to_datetime(iap['Date'])==date][str(cohort)])\n",
    "            cohort_installs=float(installs.loc[installs['cohort_number']==cohort]['installs'])\n",
    "            \n",
    "            ltv=ltv+((ads_revenue_day+iap_revenue_day)/cohort_installs)\n",
    "            row.append(ltv)\n",
    "    else:\n",
    "        pass\n",
    "    \n",
    "    ltv_all.append(row)\n",
    "#     print(str(cohort)+' is ended')\n",
    "\n",
    "columns=list()\n",
    "day=list(days)\n",
    "\n",
    "for x in list(day):\n",
    "    columns.append('LTV'+str(day.index(x)+1))\n",
    "    \n",
    "columns.insert(0,'cohort')\n",
    "\n",
    "ltv_all = pd.DataFrame(ltv_all,columns=columns)\n",
    "print('Calculation of LTV is completed')"
   ]
  },
  {
   "cell_type": "code",
   "execution_count": 33,
   "metadata": {},
   "outputs": [
    {
     "name": "stdout",
     "output_type": "stream",
     "text": [
      "Uploading to csv is done\n"
     ]
    }
   ],
   "source": [
    "# to csv\n",
    "ltv_all.to_csv('ltv all in all.csv')\n",
    "\n",
    "print('Uploading to csv is done')"
   ]
  },
  {
   "cell_type": "code",
   "execution_count": null,
   "metadata": {},
   "outputs": [],
   "source": []
  }
 ],
 "metadata": {
  "kernelspec": {
   "display_name": "Python 3",
   "language": "python",
   "name": "python3"
  },
  "language_info": {
   "codemirror_mode": {
    "name": "ipython",
    "version": 3
   },
   "file_extension": ".py",
   "mimetype": "text/x-python",
   "name": "python",
   "nbconvert_exporter": "python",
   "pygments_lexer": "ipython3",
   "version": "3.7.6"
  }
 },
 "nbformat": 4,
 "nbformat_minor": 1
}
